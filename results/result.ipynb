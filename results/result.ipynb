{
 "cells": [
  {
   "cell_type": "markdown",
   "metadata": {},
   "source": [
    "### Predicting Bank's Term Deposit Subscription\n",
    "\n",
    "#### Author: Guansu(Frances) Niu\n",
    "\n",
    "#### Data Resource: https://archive.ics.uci.edu/ml/datasets/Bank+Marketing"
   ]
  },
  {
   "cell_type": "markdown",
   "metadata": {},
   "source": [
    "#### Baseline"
   ]
  },
  {
   "cell_type": "markdown",
   "metadata": {},
   "source": [
    "The baseline of F1 score is 0.202.\n",
    "\n",
    "The baseline of accuracy score is 0.887."
   ]
  },
  {
   "cell_type": "markdown",
   "metadata": {},
   "source": [
    "#### Model Prediction"
   ]
  },
  {
   "cell_type": "markdown",
   "metadata": {},
   "source": [
    "**For random forest classification:**\n",
    "\n",
    "The F1 score is 0.367 (after cross validation) with tuned parameters max_feature = 16 and max_depth = 8.\n",
    "\n",
    "The uncertainties due to splitting is 0.00450, and due to non-deterministic ML method is 0.00186.\n",
    "\n",
    "The accuracy score is 0.90."
   ]
  },
  {
   "cell_type": "markdown",
   "metadata": {},
   "source": [
    "**For xgboost classification:**\n",
    "\n",
    "The F1 score is 0.379 (after cross validation) with tuned parameters max_depth = 11.\n",
    "\n",
    "The uncertainties due to splitting is 0.00760, and due to non-deterministic ML method is 0.0.\n",
    "\n",
    "The accuracy score is 0.898."
   ]
  },
  {
   "cell_type": "markdown",
   "metadata": {},
   "source": [
    "**For gradient boost classification:**\n",
    "\n",
    "The F1 score is 0.391 (after cross validation) with tuned parameters max_depth = 11.\n",
    "\n",
    "The uncertainties due to splitting is 0.00692, and due to non-deterministic ML method is 0.000856.\n",
    "\n",
    "The accuracy score is 0.842."
   ]
  },
  {
   "cell_type": "markdown",
   "metadata": {},
   "source": [
    "#### Model Analysis:"
   ]
  },
  {
   "cell_type": "markdown",
   "metadata": {},
   "source": [
    "All the F1 scores are above the baseline, and only the accuracy score of gradient boost is below the baseline. Based on the F1 score, gradient boost performs the best and random forest performs the worst. The accuracy score flips the result. In general, the three models give very similar results by adding uncertainties to the F1 scores."
   ]
  }
 ],
 "metadata": {
  "kernelspec": {
   "display_name": "Python 3",
   "language": "python",
   "name": "python3"
  },
  "language_info": {
   "codemirror_mode": {
    "name": "ipython",
    "version": 3
   },
   "file_extension": ".py",
   "mimetype": "text/x-python",
   "name": "python",
   "nbconvert_exporter": "python",
   "pygments_lexer": "ipython3",
   "version": "3.7.3"
  }
 },
 "nbformat": 4,
 "nbformat_minor": 4
}
